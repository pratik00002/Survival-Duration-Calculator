{
 "cells": [
  {
   "cell_type": "code",
   "execution_count": 1,
   "id": "98a7d68c",
   "metadata": {},
   "outputs": [
    {
     "name": "stdout",
     "output_type": "stream",
     "text": [
      "What's your age? 26\n",
      "Please choose time unit: Months, Weeks, Days, Hours, Minutes, Seconds. \n",
      "Note: You can write the first letter or the full name of the time unit. days\n",
      "You lived for 9490 Days\n"
     ]
    }
   ],
   "source": [
    "def calculate_duration(age, time_unit):\n",
    "    if time_unit.lower() == 'months' or time_unit.lower() == 'm':\n",
    "        duration = age * 12\n",
    "        return f\"You lived for {duration} Months\"\n",
    "    elif time_unit.lower() == 'weeks' or time_unit.lower() == 'w':\n",
    "        duration = age * 52\n",
    "        return f\"You lived for {duration} Weeks\"\n",
    "    elif time_unit.lower() == 'days' or time_unit.lower() == 'd':\n",
    "        duration = age * 365\n",
    "        return f\"You lived for {duration} Days\"\n",
    "    elif time_unit.lower() == 'hours' or time_unit.lower() == 'h':\n",
    "        duration = age * 365 * 24\n",
    "        return f\"You lived for {duration} Hours\"\n",
    "    elif time_unit.lower() == 'minutes' or time_unit.lower() == 'min':\n",
    "        duration = age * 365 * 24 * 60\n",
    "        return f\"You lived for {duration} Minutes\"\n",
    "    elif time_unit.lower() == 'seconds' or time_unit.lower() == 'sec':\n",
    "        duration = age * 365 * 24 * 60 * 60\n",
    "        return f\"You lived for {duration} Seconds\"\n",
    "    else:\n",
    "        return \"Invalid time unit entered\"\n",
    "\n",
    "\n",
    "def main():\n",
    "    age = int(input(\"What's your age? \"))\n",
    "    time_unit = input(\"Please choose time unit: Months, Weeks, Days, Hours, Minutes, Seconds. \\nNote: You can write the first letter or the full name of the time unit. \")\n",
    "    duration = calculate_duration(age, time_unit)\n",
    "    print(duration)\n",
    "\n",
    "\n",
    "if __name__ == \"__main__\":\n",
    "    main()\n"
   ]
  },
  {
   "cell_type": "code",
   "execution_count": null,
   "id": "1e23daf5",
   "metadata": {},
   "outputs": [],
   "source": []
  }
 ],
 "metadata": {
  "kernelspec": {
   "display_name": "Python 3 (ipykernel)",
   "language": "python",
   "name": "python3"
  },
  "language_info": {
   "codemirror_mode": {
    "name": "ipython",
    "version": 3
   },
   "file_extension": ".py",
   "mimetype": "text/x-python",
   "name": "python",
   "nbconvert_exporter": "python",
   "pygments_lexer": "ipython3",
   "version": "3.8.12"
  }
 },
 "nbformat": 4,
 "nbformat_minor": 5
}
